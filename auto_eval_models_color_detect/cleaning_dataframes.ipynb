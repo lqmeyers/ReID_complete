{
 "cells": [
  {
   "cell_type": "code",
   "execution_count": 4,
   "metadata": {},
   "outputs": [
    {
     "name": "stderr",
     "output_type": "stream",
     "text": [
      "/tmp/ipykernel_11389/2411885035.py:10: SettingWithCopyWarning: \n",
      "A value is trying to be set on a copy of a slice from a DataFrame.\n",
      "Try using .loc[row_indexer,col_indexer] = value instead\n",
      "\n",
      "See the caveats in the documentation: https://pandas.pydata.org/pandas-docs/stable/user_guide/indexing.html#returning-a-view-versus-a-copy\n",
      "  ids_df['steps']=(ids_df['total_training_images']/64).round()*ids_df['num_epochs']+ids_df['num_epochs']\n"
     ]
    }
   ],
   "source": [
    "import pandas as pd\n",
    "import numpy as np \n",
    "import csv \n",
    "\n",
    "\n",
    "df = pd.read_csv('/home/lmeyers/ReID_complete/auto_eval_models_color_detect/evaluation_all_checkpoints_v2.csv')\n",
    "\n",
    "ids_df = df[df['num_ids']==4]\n",
    "\n",
    "ids_df['steps']=(ids_df['total_training_images']/64).round()*ids_df['num_epochs']+ids_df['num_epochs']\n"
   ]
  },
  {
   "cell_type": "code",
   "execution_count": 13,
   "metadata": {},
   "outputs": [],
   "source": [
    "other_df = pd.read_csv('/home/lmeyers/ReID_complete/auto_eval_models_color_detect/evaluation_all_checkpoints_v2_w_steps_clean.csv')\n",
    "\n",
    "\n",
    "existing_ids = other_df[other_df['num_ids']==4]\n",
    "\n",
    "other_df = other_df[other_df['num_ids']!=4]\n",
    "dff = pd.concat((other_df,ids_df),ignore_index=True)\n",
    "\n",
    "dff.to_csv('/home/lmeyers/ReID_complete/auto_eval_models_color_detect/evaluation_all_checkpoints_v2_w_steps_clean.csv')"
   ]
  }
 ],
 "metadata": {
  "kernelspec": {
   "display_name": "mlenv",
   "language": "python",
   "name": "python3"
  },
  "language_info": {
   "codemirror_mode": {
    "name": "ipython",
    "version": 3
   },
   "file_extension": ".py",
   "mimetype": "text/x-python",
   "name": "python",
   "nbconvert_exporter": "python",
   "pygments_lexer": "ipython3",
   "version": "3.9.16"
  }
 },
 "nbformat": 4,
 "nbformat_minor": 2
}
