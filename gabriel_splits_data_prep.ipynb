{
 "cells": [
  {
   "cell_type": "code",
   "execution_count": 17,
   "metadata": {},
   "outputs": [],
   "source": [
    "## load dataframe from csv \n",
    "\n",
    "import pandas as pd \n",
    "import numpy as np \n",
    "import os\n",
    "import matplotlib.pyplot as plt\n",
    "from PIL import Image as Image2\n",
    "import scipy.stats\n"
   ]
  },
  {
   "cell_type": "markdown",
   "metadata": {},
   "source": [
    "A Messy Notebook for Working with Data split Dataframes (various tasks)"
   ]
  },
  {
   "cell_type": "code",
   "execution_count": 5,
   "metadata": {},
   "outputs": [],
   "source": [
    "\n",
    "\n",
    "fname = '/home/gsantiago/summer_bee_data/open_sets/open_max_ids_batch2/summer_bee_dataset_open_train_bee_balanced_batch2_sample_num_max.csv'\n",
    "dft = pd.read_csv(fname)\n",
    "\n",
    "\n",
    "df2 = pd.read_csv('/home/gsantiago/summer_bee_data/open_sets/open_max_ids_batch1/summer_bee_dataset_open_train_bee_balanced_batch1_sample_num_max.csv')\n",
    "#print(np.unique(dft['label']))\n",
    "\n",
    "\n",
    "dft = pd.concat((dft,df2))\n",
    "dft_sorted = dft.sort_values(by='color_id')"
   ]
  },
  {
   "cell_type": "code",
   "execution_count": 12,
   "metadata": {},
   "outputs": [
    {
     "name": "stdout",
     "output_type": "stream",
     "text": [
      "{10: 74, 11: 75, 15: 79, 14: 78, 12: 76, 16: 80, 13: 77, 9: 73, 18: 82, 19: 83, 23: 87, 22: 86, 20: 84, 24: 88, 21: 85, 17: 81, 50: 114, 51: 115, 55: 119, 54: 118, 52: 116, 56: 120, 53: 117, 49: 113, 42: 106, 43: 107, 47: 111, 46: 110, 44: 108, 48: 112, 45: 109, 41: 105, 26: 90, 27: 91, 31: 95, 30: 94, 28: 92, 32: 96, 29: 93, 25: 89, 58: 122, 59: 123, 63: 127, 62: 126, 60: 124, 64: 128, 61: 125, 57: 121, 34: 98, 35: 99, 39: 103, 38: 102, 36: 100, 40: 104, 37: 101, 33: 97, 2: 66, 3: 67, 7: 71, 6: 70, 68: 68, 8: 72, 5: 69, 1: 65}\n"
     ]
    }
   ],
   "source": [
    "b1_to_b2 = {}\n",
    "b2_to_b1 = {}\n",
    "for color in np.unique(dft['color_id']):\n",
    "    cs = list(np.unique(dft[dft['color_id']==color]['ID']))\n",
    "    if len(cs)>1:\n",
    "        b1_to_b2[cs[0]] = cs[1]\n",
    "        b2_to_b1[cs[1]]= cs[0]\n",
    "    else:\n",
    "        b1_to_b2[cs[0]] = cs[0]\n",
    "        b2_to_b1[cs[0]]= cs[0]\n",
    "\n",
    "print(b1_to_b2)\n",
    "\n",
    "\n"
   ]
  },
  {
   "cell_type": "code",
   "execution_count": 24,
   "metadata": {},
   "outputs": [
    {
     "name": "stderr",
     "output_type": "stream",
     "text": [
      "/tmp/ipykernel_12451/533246032.py:22: FutureWarning: The behavior of DataFrame concatenation with empty or all-NA entries is deprecated. In a future version, this will no longer exclude empty or all-NA columns when determining the result dtypes. To retain the old behavior, exclude the relevant entries before the concat operation.\n",
      "  new_df = pd.concat([new_df, first_row], ignore_index=True)\n"
     ]
    },
    {
     "name": "stdout",
     "output_type": "stream",
     "text": [
      "10866 10802\n"
     ]
    },
    {
     "data": {
      "text/html": [
       "<div>\n",
       "<style scoped>\n",
       "    .dataframe tbody tr th:only-of-type {\n",
       "        vertical-align: middle;\n",
       "    }\n",
       "\n",
       "    .dataframe tbody tr th {\n",
       "        vertical-align: top;\n",
       "    }\n",
       "\n",
       "    .dataframe thead th {\n",
       "        text-align: right;\n",
       "    }\n",
       "</style>\n",
       "<table border=\"1\" class=\"dataframe\">\n",
       "  <thead>\n",
       "    <tr style=\"text-align: right;\">\n",
       "      <th></th>\n",
       "      <th>img_number</th>\n",
       "      <th>ID</th>\n",
       "      <th>color_id</th>\n",
       "      <th>frame</th>\n",
       "      <th>track</th>\n",
       "      <th>batch</th>\n",
       "      <th>pass</th>\n",
       "      <th>environment</th>\n",
       "      <th>bee_range</th>\n",
       "      <th>filepath</th>\n",
       "      <th>background</th>\n",
       "      <th>reID</th>\n",
       "      <th>color_num</th>\n",
       "    </tr>\n",
       "  </thead>\n",
       "  <tbody>\n",
       "    <tr>\n",
       "      <th>1</th>\n",
       "      <td>1</td>\n",
       "      <td>74</td>\n",
       "      <td>blue-blue</td>\n",
       "      <td>14363</td>\n",
       "      <td>83</td>\n",
       "      <td>2</td>\n",
       "      <td>NaN</td>\n",
       "      <td>in-lab</td>\n",
       "      <td>65-96</td>\n",
       "      <td>/home/gsantiago/summer_bee_data/summer_bee_dat...</td>\n",
       "      <td>blue</td>\n",
       "      <td>74</td>\n",
       "      <td>0</td>\n",
       "    </tr>\n",
       "    <tr>\n",
       "      <th>2</th>\n",
       "      <td>2</td>\n",
       "      <td>74</td>\n",
       "      <td>blue-blue</td>\n",
       "      <td>14067</td>\n",
       "      <td>83</td>\n",
       "      <td>2</td>\n",
       "      <td>NaN</td>\n",
       "      <td>in-lab</td>\n",
       "      <td>65-96</td>\n",
       "      <td>/home/gsantiago/summer_bee_data/summer_bee_dat...</td>\n",
       "      <td>blue</td>\n",
       "      <td>74</td>\n",
       "      <td>0</td>\n",
       "    </tr>\n",
       "    <tr>\n",
       "      <th>3</th>\n",
       "      <td>3</td>\n",
       "      <td>74</td>\n",
       "      <td>blue-blue</td>\n",
       "      <td>19930</td>\n",
       "      <td>171</td>\n",
       "      <td>2</td>\n",
       "      <td>2.0</td>\n",
       "      <td>outside</td>\n",
       "      <td>65-96</td>\n",
       "      <td>/home/gsantiago/summer_bee_data/summer_bee_dat...</td>\n",
       "      <td>blue</td>\n",
       "      <td>74</td>\n",
       "      <td>0</td>\n",
       "    </tr>\n",
       "    <tr>\n",
       "      <th>4</th>\n",
       "      <td>4</td>\n",
       "      <td>74</td>\n",
       "      <td>blue-blue</td>\n",
       "      <td>19756</td>\n",
       "      <td>166</td>\n",
       "      <td>2</td>\n",
       "      <td>2.0</td>\n",
       "      <td>outside</td>\n",
       "      <td>65-96</td>\n",
       "      <td>/home/gsantiago/summer_bee_data/summer_bee_dat...</td>\n",
       "      <td>blue</td>\n",
       "      <td>74</td>\n",
       "      <td>0</td>\n",
       "    </tr>\n",
       "    <tr>\n",
       "      <th>5</th>\n",
       "      <td>5</td>\n",
       "      <td>74</td>\n",
       "      <td>blue-blue</td>\n",
       "      <td>14066</td>\n",
       "      <td>83</td>\n",
       "      <td>2</td>\n",
       "      <td>NaN</td>\n",
       "      <td>in-lab</td>\n",
       "      <td>65-96</td>\n",
       "      <td>/home/gsantiago/summer_bee_data/summer_bee_dat...</td>\n",
       "      <td>blue</td>\n",
       "      <td>74</td>\n",
       "      <td>0</td>\n",
       "    </tr>\n",
       "  </tbody>\n",
       "</table>\n",
       "</div>"
      ],
      "text/plain": [
       "   img_number  ID   color_id  frame  track  batch  pass environment bee_range  \\\n",
       "1           1  74  blue-blue  14363     83      2   NaN      in-lab     65-96   \n",
       "2           2  74  blue-blue  14067     83      2   NaN      in-lab     65-96   \n",
       "3           3  74  blue-blue  19930    171      2   2.0     outside     65-96   \n",
       "4           4  74  blue-blue  19756    166      2   2.0     outside     65-96   \n",
       "5           5  74  blue-blue  14066     83      2   NaN      in-lab     65-96   \n",
       "\n",
       "                                            filepath background  reID  \\\n",
       "1  /home/gsantiago/summer_bee_data/summer_bee_dat...       blue    74   \n",
       "2  /home/gsantiago/summer_bee_data/summer_bee_dat...       blue    74   \n",
       "3  /home/gsantiago/summer_bee_data/summer_bee_dat...       blue    74   \n",
       "4  /home/gsantiago/summer_bee_data/summer_bee_dat...       blue    74   \n",
       "5  /home/gsantiago/summer_bee_data/summer_bee_dat...       blue    74   \n",
       "\n",
       "   color_num  \n",
       "1          0  \n",
       "2          0  \n",
       "3          0  \n",
       "4          0  \n",
       "5          0  "
      ]
     },
     "execution_count": 24,
     "metadata": {},
     "output_type": "execute_result"
    }
   ],
   "source": [
    "filename = '/home/gsantiago/summer_bee_data/open_sets/new_open_max_ids_batch2/summer_bee_dataset_open_train_bee_64_ids_batch2_sample_num_max.csv'\n",
    "\n",
    "in_df = pd.read_csv(filename)\n",
    "import pandas as pd\n",
    "\n",
    "del in_df['Unnamed: 0']\n",
    "del in_df['Unnamed: 0.1']\n",
    "del in_df['Unnamed: 0.2']\n",
    "#del in_df['Unnamed: 0.3']\n",
    "#del in_df['Unnamed: 0.4']\n",
    "\n",
    "\n",
    "\n",
    "def extract_and_delete_rows(df, id_column,num_rows):\n",
    "    unique_ids = df[id_column].unique()\n",
    "    \n",
    "    new_df = pd.DataFrame(columns=df.columns)\n",
    "\n",
    "    for unique_id in unique_ids:\n",
    "        mask = df[id_column] == unique_id\n",
    "        first_row = df[mask].iloc[0:num_rows]\n",
    "        new_df = pd.concat([new_df, first_row], ignore_index=True)\n",
    "        \n",
    "        # Delete the rows from the original DataFrame\n",
    "        first_row_index = df[mask].index[0:num_rows]\n",
    "        df = df.drop(first_row_index)\n",
    "    \n",
    "    return new_df, df\n",
    "\n",
    "# Example usage:\n",
    "# Assuming 'id_column' is the name of the column you want to use\n",
    "# and 'original_df' is the DataFrame you are working with\n",
    "result_df, remaining_df = extract_and_delete_rows(in_df, 'ID',1)\n",
    "print(len(in_df), len(remaining_df))\n",
    "out_dir = '/home/lmeyers/summer_bee_data_reextract/'\n",
    "\n",
    "result_df.to_csv(out_dir+os.path.basename(filename)[:-4]+'.classifer_train_1_img.csv',index=False)\n",
    "remaining_df.to_csv(out_dir+os.path.basename(filename)[:-4]+'.classifer_test_img.csv',index=False)\n",
    "remaining_df.head()\n"
   ]
  },
  {
   "cell_type": "code",
   "execution_count": 29,
   "metadata": {},
   "outputs": [
    {
     "name": "stdout",
     "output_type": "stream",
     "text": [
      "/home/lmeyers/summer_bee_data_reextract/summer_bee_dataset_open_train_bee_24_ids_monocolor_and_permutated_ids_batch2_sample_num_max.classifer_test_img.csv\n",
      "26.0\n",
      "4226 3602\n",
      "/home/lmeyers/summer_bee_data_reextract/summer_bee_dataset_open_train_bee_16_ids_four_times_permutated_colors_batch2_sample_num_max.classifer_test_img.csv\n",
      "28.0\n"
     ]
    },
    {
     "name": "stderr",
     "output_type": "stream",
     "text": [
      "/tmp/ipykernel_12451/533246032.py:22: FutureWarning: The behavior of DataFrame concatenation with empty or all-NA entries is deprecated. In a future version, this will no longer exclude empty or all-NA columns when determining the result dtypes. To retain the old behavior, exclude the relevant entries before the concat operation.\n",
      "  new_df = pd.concat([new_df, first_row], ignore_index=True)\n",
      "/tmp/ipykernel_12451/533246032.py:22: FutureWarning: The behavior of DataFrame concatenation with empty or all-NA entries is deprecated. In a future version, this will no longer exclude empty or all-NA columns when determining the result dtypes. To retain the old behavior, exclude the relevant entries before the concat operation.\n",
      "  new_df = pd.concat([new_df, first_row], ignore_index=True)\n"
     ]
    },
    {
     "name": "stdout",
     "output_type": "stream",
     "text": [
      "3040 2592\n",
      "/home/lmeyers/summer_bee_data_reextract/summer_bee_dataset_open_train_bee_32_ids_permutated_ids_batch2_sample_num_max.classifer_test_img.csv\n",
      "26.0\n",
      "5631 4803\n"
     ]
    },
    {
     "name": "stderr",
     "output_type": "stream",
     "text": [
      "/tmp/ipykernel_12451/533246032.py:22: FutureWarning: The behavior of DataFrame concatenation with empty or all-NA entries is deprecated. In a future version, this will no longer exclude empty or all-NA columns when determining the result dtypes. To retain the old behavior, exclude the relevant entries before the concat operation.\n",
      "  new_df = pd.concat([new_df, first_row], ignore_index=True)\n",
      "/tmp/ipykernel_12451/533246032.py:22: FutureWarning: The behavior of DataFrame concatenation with empty or all-NA entries is deprecated. In a future version, this will no longer exclude empty or all-NA columns when determining the result dtypes. To retain the old behavior, exclude the relevant entries before the concat operation.\n",
      "  new_df = pd.concat([new_df, first_row], ignore_index=True)\n"
     ]
    },
    {
     "name": "stdout",
     "output_type": "stream",
     "text": [
      "/home/lmeyers/summer_bee_data_reextract/summer_bee_dataset_open_train_bee_4_ids_batch2_sample_num_max.classifer_test_img.csv\n",
      "27.0\n",
      "725 617\n",
      "/home/lmeyers/summer_bee_data_reextract/summer_bee_dataset_open_train_bee_8_ids_double_colors_batch2_sample_num_max.classifer_test_img.csv\n",
      "22.0\n",
      "1191 1015\n",
      "/home/lmeyers/summer_bee_data_reextract/summer_bee_dataset_open_train_bee_64_ids_batch2_sample_num_max.classifer_test_img.csv\n",
      "25.0\n"
     ]
    },
    {
     "name": "stderr",
     "output_type": "stream",
     "text": [
      "/tmp/ipykernel_12451/533246032.py:22: FutureWarning: The behavior of DataFrame concatenation with empty or all-NA entries is deprecated. In a future version, this will no longer exclude empty or all-NA columns when determining the result dtypes. To retain the old behavior, exclude the relevant entries before the concat operation.\n",
      "  new_df = pd.concat([new_df, first_row], ignore_index=True)\n",
      "/tmp/ipykernel_12451/533246032.py:22: FutureWarning: The behavior of DataFrame concatenation with empty or all-NA entries is deprecated. In a future version, this will no longer exclude empty or all-NA columns when determining the result dtypes. To retain the old behavior, exclude the relevant entries before the concat operation.\n",
      "  new_df = pd.concat([new_df, first_row], ignore_index=True)\n"
     ]
    },
    {
     "name": "stdout",
     "output_type": "stream",
     "text": [
      "10802 9205\n"
     ]
    }
   ],
   "source": [
    "import glob\n",
    "for f in glob.glob('/home/lmeyers/summer_bee_data_reextract/summer*test*'):\n",
    "    print(f)\n",
    "    df = pd.read_csv(f)\n",
    "    unique_values = np.unique(df['ID'])\n",
    "    num_rows = np.round(len(df)/len(unique_values)*.15)\n",
    "    print(num_rows)\n",
    "    #index_mapping = {value: index for index, value in enumerate(unique_values)}\n",
    "    # Add a new column 'col2' with the index for each value in 'col1'\n",
    "    # del df['Class_num']\n",
    "    # df['class_num'] = df['ID'].map(index_mapping)\n",
    "    result_df, remaining_df = extract_and_delete_rows(df, 'ID',int(num_rows))\n",
    "    print(len(df), len(remaining_df))\n",
    "    out_dir = '/home/lmeyers/summer_bee_data_reextract/'\n",
    "    result_df.to_csv(out_dir+os.path.basename(f)[:-23]+'.classifer_valid_20_percent.csv',index=False)\n",
    "    remaining_df.to_csv(out_dir+os.path.basename(f)[:-23]+'.classifer_test_img.csv',index=False)\n",
    "    # remaining_df.head()\n",
    "\n",
    "    "
   ]
  },
  {
   "cell_type": "code",
   "execution_count": 13,
   "metadata": {},
   "outputs": [
    {
     "name": "stdout",
     "output_type": "stream",
     "text": [
      "729\n"
     ]
    }
   ],
   "source": [
    "import pandas as pd \n",
    "fn = '/home/gsantiago/summer_bee_data/open_sets/new_open_04_ids_all_colors_batch2/summer_bee_dataset_open_train_bee_4_ids_batch2_sample_num_64.csv'\n",
    "df = pd.read_csv(fn)\n",
    "\n",
    "fn2 = '/home/gsantiago/summer_bee_data/open_sets/new_open_04_ids_all_colors_batch2/summer_bee_dataset_open_train_bee_4_ids_batch2_sample_num_max.csv'\n",
    "df2 = pd.read_csv(fn2)\n",
    "\n",
    "\n",
    "print(len(df2))\n",
    "# # Check if lines of df1 are present in df2\n",
    "# merged_df = pd.merge(df, df2, how='right', indicator=True)\n",
    "\n",
    "# # Filter the lines present in both DataFrames\n",
    "# common_lines = merged_df[merged_df['_merge'] == 'both'].drop('_merge', axis=1)\n",
    "\n",
    "# # Display the result\n",
    "# print(common_lines)\n"
   ]
  }
 ],
 "metadata": {
  "kernelspec": {
   "display_name": "mlenv",
   "language": "python",
   "name": "python3"
  },
  "language_info": {
   "codemirror_mode": {
    "name": "ipython",
    "version": 3
   },
   "file_extension": ".py",
   "mimetype": "text/x-python",
   "name": "python",
   "nbconvert_exporter": "python",
   "pygments_lexer": "ipython3",
   "version": "3.9.16"
  },
  "orig_nbformat": 4
 },
 "nbformat": 4,
 "nbformat_minor": 2
}
